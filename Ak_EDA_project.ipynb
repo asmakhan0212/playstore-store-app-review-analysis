{
  "nbformat": 4,
  "nbformat_minor": 0,
  "metadata": {
    "colab": {
      "private_outputs": true,
      "provenance": [],
      "collapsed_sections": [
        "vncDsAP0Gaoa",
        "FJNUwmbgGyua",
        "w6K7xa23Elo4",
        "yQaldy8SH6Dl",
        "PH-0ReGfmX4f",
        "mDgbUHAGgjLW",
        "HhfV-JJviCcP",
        "Y3lxredqlCYt",
        "3RnN4peoiCZX",
        "x71ZqKXriCWQ",
        "7hBIi_osiCS2",
        "JlHwYmJAmNHm",
        "35m5QtbWiB9F",
        "PoPl-ycgm1ru",
        "H0kj-8xxnORC",
        "PBTbrJXOngz2",
        "MSa1f5Uengrz",
        "0wOQAZs5pc--",
        "K5QZ13OEpz2H",
        "lQ7QKXXCp7Bj",
        "448CDAPjqfQr",
        "KSlN3yHqYklG",
        "t6dVpIINYklI",
        "ijmpgYnKYklI",
        "-JiQyfWJYklI",
        "EM7whBJCYoAo",
        "fge-S5ZAYoAp",
        "85gYPyotYoAp",
        "RoGjAbkUYoAp",
        "4Of9eVA-YrdM",
        "iky9q4vBYrdO",
        "F6T5p64dYrdO",
        "y-Ehk30pYrdP",
        "bamQiAODYuh1",
        "QHF8YVU7Yuh3",
        "GwzvFGzlYuh3",
        "qYpmQ266Yuh3",
        "OH-pJp9IphqM",
        "bbFf2-_FphqN",
        "_ouA3fa0phqN",
        "Seke61FWphqN",
        "PIIx-8_IphqN",
        "t27r6nlMphqO",
        "r2jJGEOYphqO",
        "b0JNsNcRphqO",
        "BZR9WyysphqO",
        "jj7wYXLtphqO",
        "eZrbJ2SmphqO",
        "rFu4xreNphqO",
        "YJ55k-q6phqO",
        "gCFgpxoyphqP",
        "OVtJsKN_phqQ",
        "lssrdh5qphqQ",
        "U2RJ9gkRphqQ",
        "1M8mcRywphqQ",
        "tgIPom80phqQ",
        "JMzcOPDDphqR",
        "x-EpHcCOp1ci",
        "X_VqEhTip1ck",
        "8zGJKyg5p1ck",
        "PVzmfK_Ep1ck",
        "n3dbpmDWp1ck",
        "ylSl6qgtp1ck",
        "ZWILFDl5p1ck",
        "M7G43BXep1ck",
        "Ag9LCva-p1cl",
        "E6MkPsBcp1cl",
        "2cELzS2fp1cl",
        "3MPXvC8up1cl",
        "UV0SzAkaZNRQ",
        "YPEH6qLeZNRQ",
        "EXh0U9oCveiU",
        "22aHeOlLveiV",
        "JcMwzZxoAimU",
        "8G2x9gOozGDZ",
        "gCX9965dhzqZ",
        "gIfDvo9L0UH2"
      ]
    },
    "kernelspec": {
      "name": "python3",
      "display_name": "Python 3"
    },
    "language_info": {
      "name": "python"
    }
  },
  "cells": [
    {
      "cell_type": "markdown",
      "source": [
        "# **Project Name**    - Play Store App Review Analysis\n",
        "\n"
      ],
      "metadata": {
        "id": "vncDsAP0Gaoa"
      }
    },
    {
      "cell_type": "markdown",
      "source": [
        "##### **Project Type**    - EDA\n",
        "##### **Contribution**    - Team\n",
        "##### **Team Member 1 -** Asma Khan\n",
        "##### **Team Member 2 -** Shuvadip Sahu\n",
        "##### **Team Member 3 -** Rohit Chavan\n",
        "##### **Team Member 4 -** Arman Raut"
      ],
      "metadata": {
        "id": "beRrZCGUAJYm"
      }
    },
    {
      "cell_type": "markdown",
      "source": [
        "# **Project Summary -**"
      ],
      "metadata": {
        "id": "FJNUwmbgGyua"
      }
    },
    {
      "cell_type": "markdown",
      "source": [
        "Our project revolves around demystifying the Play Store data puzzle to empower app developers in the Android realm. The main goal is to sift through app details and user reviews,italicized text distilling insights that can guide developers towards making smarter decisions for better user engagement.\n",
        "\n",
        "\n",
        "**Understanding the Playground:**\n",
        "\n",
        "To kick off, we gather a trove of data from the Play Store—details like app categories, ratings, and sizes. We also grab user reviews, aiming for a comprehensive understanding of what factors contribute to app success.\n",
        "\n",
        "Getting Acquainted with the Data:\n",
        "Taking a closer look at the data, we ensure it's all in order and fill in any blanks. Quick snapshots of ratings and sizes give us a bird's eye view of trends and patterns.\n",
        "\n",
        "**Cracking the Category Code:**\n",
        "\n",
        "Next, we dive into how apps perform across different categories. This helps identify the hotspots—categories that are currently rocking the charts. Developers can then tailor their efforts to align with these trends.\n",
        "\n",
        "**User Vibes Matter:**\n",
        "\n",
        "We tap into customer reviews to uncover the feelings users have about apps. This sentiment analysis helps developers in refining their creations, prioritizing features that users love and fixing areas that might be irking them.\n",
        "\n",
        "**Connecting the Data Dots:**\n",
        "\n",
        "We play matchmaker with different data points—ratings, size, and category—seeking out connections that reveal what makes users tick. This detective work allows developers to focus on aspects that strongly influence higher app engagement.\n",
        "\n",
        "**Size Check:**\n",
        "\n",
        "Ever wondered if app size affects how users rate an app? We investigate that too, providing insights into the optimal app size for maximum user satisfaction.\n",
        "\n",
        "**What We Serve on the Plate:**\n",
        "\n",
        "At the project's end, we serve up insights and recommendations on a platter for developers. This includes understanding user preferences, strategies to shine in specific categories, and actionable feedback from users for app improvement.\n",
        "\n",
        "**What We Expect:**\n",
        "\n",
        "This project isn’t just about numbers; it's about giving developers the keys to app success. We expect to pinpoint factors crucial for app triumph, provide a peek into user preferences, and hand over practical tips for developers to level up their apps.\n",
        "\n",
        "In essence, our project is about simplifying the complex world of Play Store data, offering a roadmap for developers to navigate towards app success. It's not just about numbers; it's about understanding what users want and guiding developers on how to deliver just that."
      ],
      "metadata": {
        "id": "F6v_1wHtG2nS"
      }
    },
    {
      "cell_type": "markdown",
      "source": [
        "# **GitHub Link -**"
      ],
      "metadata": {
        "id": "w6K7xa23Elo4"
      }
    },
    {
      "cell_type": "markdown",
      "source": [
        "https://github.com/asmakhan0212/playstore-store-app-review-analysis"
      ],
      "metadata": {
        "id": "h1o69JH3Eqqn"
      }
    },
    {
      "cell_type": "markdown",
      "source": [
        "# **Problem Statement**\n"
      ],
      "metadata": {
        "id": "yQaldy8SH6Dl"
      }
    },
    {
      "cell_type": "markdown",
      "source": [
        "**In the Play Store, developers struggle to understand what makes apps successful—like which categories work best, what users really like, and how factors such as ratings and size matter. This project aims to untangle these questions using data analysis, providing clear guidance for developers to make better apps and thrive in the competitive Android market.**"
      ],
      "metadata": {
        "id": "DpeJGUA3kjGy"
      }
    },
    {
      "cell_type": "markdown",
      "source": [
        "#### **Define Your Business Objective?**"
      ],
      "metadata": {
        "id": "PH-0ReGfmX4f"
      }
    },
    {
      "cell_type": "markdown",
      "source": [
        "**Empower app developers to create more successful apps for the Play Store by understanding user preferences, identifying top-performing categories, and optimizing app sizes. Through clear data insights, the goal is to guide developers in making informed decisions that enhance user satisfaction and overall app success in the competitive Android market.**"
      ],
      "metadata": {
        "id": "PhDvGCAqmjP1"
      }
    },
    {
      "cell_type": "markdown",
      "source": [
        "# **General Guidelines** : -  "
      ],
      "metadata": {
        "id": "mDgbUHAGgjLW"
      }
    },
    {
      "cell_type": "markdown",
      "source": [
        "1.   Well-structured, formatted, and commented code is required.\n",
        "2.   Exception Handling, Production Grade Code & Deployment Ready Code will be a plus. Those students will be awarded some additional credits.\n",
        "     \n",
        "     The additional credits will have advantages over other students during Star Student selection.\n",
        "       \n",
        "             [ Note: - Deployment Ready Code is defined as, the whole .ipynb notebook should be executable in one go\n",
        "                       without a single error logged. ]\n",
        "\n",
        "3.   Each and every logic should have proper comments.\n",
        "4. You may add as many number of charts you want. Make Sure for each and every chart the following format should be answered.\n",
        "        \n",
        "\n",
        "```\n",
        "# Chart visualization code\n",
        "```\n",
        "            \n",
        "\n",
        "*   Why did you pick the specific chart?\n",
        "*   What is/are the insight(s) found from the chart?\n",
        "* Will the gained insights help creating a positive business impact?\n",
        "Are there any insights that lead to negative growth? Justify with specific reason.\n",
        "\n",
        "5. You have to create at least 20 logical & meaningful charts having important insights.\n",
        "\n",
        "\n",
        "[ Hints : - Do the Vizualization in  a structured way while following \"UBM\" Rule.\n",
        "\n",
        "U - Univariate Analysis,\n",
        "\n",
        "B - Bivariate Analysis (Numerical - Categorical, Numerical - Numerical, Categorical - Categorical)\n",
        "\n",
        "M - Multivariate Analysis\n",
        " ]\n",
        "\n",
        "\n",
        "\n"
      ],
      "metadata": {
        "id": "ZrxVaUj-hHfC"
      }
    },
    {
      "cell_type": "markdown",
      "source": [
        "# ***Let's Begin !***"
      ],
      "metadata": {
        "id": "O_i_v8NEhb9l"
      }
    },
    {
      "cell_type": "markdown",
      "source": [
        "## ***1. Know Your Data***"
      ],
      "metadata": {
        "id": "HhfV-JJviCcP"
      }
    },
    {
      "cell_type": "markdown",
      "source": [
        "### Import Libraries"
      ],
      "metadata": {
        "id": "Y3lxredqlCYt"
      }
    },
    {
      "cell_type": "code",
      "source": [
        "# Import Libraries\n",
        "# Import Libraries\n",
        "import numpy as np\n",
        "import pandas as pd\n",
        "import matplotlib.pyplot as plt\n",
        "from matplotlib.ticker import FuncFormatter\n",
        "import seaborn as sns\n",
        "from google.colab import files"
      ],
      "metadata": {
        "id": "M8Vqi-pPk-HR"
      },
      "execution_count": null,
      "outputs": []
    },
    {
      "cell_type": "markdown",
      "source": [
        "### Dataset Loading"
      ],
      "metadata": {
        "id": "3RnN4peoiCZX"
      }
    },
    {
      "cell_type": "code",
      "source": [
        "from google.colab import drive\n",
        "drive.mount('/content/drive')\n",
        "df = pd.read_csv(\"/content/drive/MyDrive/Colab Notebooks/Play Store Data.csv\")"
      ],
      "metadata": {
        "id": "07W_q18Ywe0a"
      },
      "execution_count": null,
      "outputs": []
    },
    {
      "cell_type": "markdown",
      "source": [
        "### Dataset First View"
      ],
      "metadata": {
        "id": "x71ZqKXriCWQ"
      }
    },
    {
      "cell_type": "code",
      "source": [
        "# Dataset First Look\n",
        "df"
      ],
      "metadata": {
        "id": "LWNFOSvLl09H"
      },
      "execution_count": null,
      "outputs": []
    },
    {
      "cell_type": "markdown",
      "source": [
        "### Dataset Rows & Columns count"
      ],
      "metadata": {
        "id": "7hBIi_osiCS2"
      }
    },
    {
      "cell_type": "code",
      "source": [
        "# Dataset Rows & Columns count\n",
        "df.shape"
      ],
      "metadata": {
        "id": "Kllu7SJgmLij"
      },
      "execution_count": null,
      "outputs": []
    },
    {
      "cell_type": "markdown",
      "source": [
        "### Dataset Information"
      ],
      "metadata": {
        "id": "JlHwYmJAmNHm"
      }
    },
    {
      "cell_type": "code",
      "source": [
        "# Dataset Info\n",
        "df.info()"
      ],
      "metadata": {
        "id": "e9hRXRi6meOf"
      },
      "execution_count": null,
      "outputs": []
    },
    {
      "cell_type": "markdown",
      "source": [
        "#### Duplicate Values"
      ],
      "metadata": {
        "id": "35m5QtbWiB9F"
      }
    },
    {
      "cell_type": "code",
      "source": [
        "# Dataset Duplicate Value Count\n",
        "duplicate_rows = df.loc[df.duplicated()]\n",
        "duplicate_rows"
      ],
      "metadata": {
        "id": "1sLdpKYkmox0"
      },
      "execution_count": null,
      "outputs": []
    },
    {
      "cell_type": "markdown",
      "source": [
        "#### Missing Values/Null Values"
      ],
      "metadata": {
        "id": "PoPl-ycgm1ru"
      }
    },
    {
      "cell_type": "code",
      "source": [
        "# Missing Values/Null Values Count\n",
        "missing_values= df.isnull()\n",
        "sum_of_missing_values= missing_values.sum(axis=0)\n",
        "sum_of_missing_values"
      ],
      "metadata": {
        "id": "GgHWkxvamxVg"
      },
      "execution_count": null,
      "outputs": []
    },
    {
      "cell_type": "code",
      "source": [
        "df.head(25)"
      ],
      "metadata": {
        "id": "nXz5hmy22Rlf"
      },
      "execution_count": null,
      "outputs": []
    },
    {
      "cell_type": "code",
      "source": [
        "missing_values[missing_values[\"Rating\"]].head(1474)"
      ],
      "metadata": {
        "id": "ia-JDfBO2ecB"
      },
      "execution_count": null,
      "outputs": []
    },
    {
      "cell_type": "code",
      "source": [
        "# Visualizing the missing values\n",
        "# yticklabels = missing_values.values[::-1]\n",
        "sns.heatmap(missing_values, cmap='gray')\n",
        "plt.show()\n",
        "\n"
      ],
      "metadata": {
        "id": "3q5wnI3om9sJ"
      },
      "execution_count": null,
      "outputs": []
    },
    {
      "cell_type": "code",
      "source": [
        "df.iloc[23]"
      ],
      "metadata": {
        "id": "XBXTXV2X29eG"
      },
      "execution_count": null,
      "outputs": []
    },
    {
      "cell_type": "code",
      "source": [
        "df = df.dropna(subset=['Content Rating','Current Ver','Android Ver','Type'])\n",
        "df"
      ],
      "metadata": {
        "id": "6VhVhvcN3L66"
      },
      "execution_count": null,
      "outputs": []
    },
    {
      "cell_type": "code",
      "source": [
        "mean_rating = df['Rating'].mean()\n",
        "\n",
        "# For each row with a missing value in the Rating column, replace the missing value with the mean.\n",
        "df['Rating'].fillna(mean_rating, inplace=True)"
      ],
      "metadata": {
        "id": "YGE9pSym3cMq"
      },
      "execution_count": null,
      "outputs": []
    },
    {
      "cell_type": "code",
      "source": [
        "df.head(25)"
      ],
      "metadata": {
        "id": "c6e3KLA93kDi"
      },
      "execution_count": null,
      "outputs": []
    },
    {
      "cell_type": "code",
      "source": [
        "df = df.drop(columns=['Size','Last Updated','Current Ver'])\n",
        "df"
      ],
      "metadata": {
        "id": "SX7zWJu43sRa"
      },
      "execution_count": null,
      "outputs": []
    },
    {
      "cell_type": "code",
      "source": [
        "df.info()"
      ],
      "metadata": {
        "id": "L6ENTlE_3v28"
      },
      "execution_count": null,
      "outputs": []
    },
    {
      "cell_type": "markdown",
      "source": [
        "### What did you know about your dataset?"
      ],
      "metadata": {
        "id": "H0kj-8xxnORC"
      }
    },
    {
      "cell_type": "markdown",
      "source": [
        "Answer Here"
      ],
      "metadata": {
        "id": "gfoNAAC-nUe_"
      }
    },
    {
      "cell_type": "markdown",
      "source": [
        "## ***2. Understanding Your Variables***"
      ],
      "metadata": {
        "id": "nA9Y7ga8ng1Z"
      }
    },
    {
      "cell_type": "code",
      "source": [
        "# Dataset Columns\n",
        "df.columns"
      ],
      "metadata": {
        "id": "j7xfkqrt5Ag5"
      },
      "execution_count": null,
      "outputs": []
    },
    {
      "cell_type": "code",
      "source": [
        "# Dataset Describe\n",
        "df.describe()"
      ],
      "metadata": {
        "id": "DnOaZdaE5Q5t"
      },
      "execution_count": null,
      "outputs": []
    },
    {
      "cell_type": "code",
      "source": [
        "# Remove commas and replace '+'\n",
        "df['Installs'] = df['Installs'].str.replace(',', '').str.replace('+', '')\n",
        "\n",
        "# Convert the column to integer\n",
        "df['Installs'] = df['Installs'].astype(int)"
      ],
      "metadata": {
        "id": "trfL5Y734K8W"
      },
      "execution_count": null,
      "outputs": []
    },
    {
      "cell_type": "code",
      "source": [
        "# Remove commas and replace '$'\n",
        "df['Price'] = df['Price'].str.replace(',', '').str.replace('$', '')\n",
        "\n",
        "# Convert the column to integer\n",
        "df['Price'] = df['Price'].astype(float)"
      ],
      "metadata": {
        "id": "DeBRRzsphvYi"
      },
      "execution_count": null,
      "outputs": []
    },
    {
      "cell_type": "code",
      "source": [
        "df['Installs']"
      ],
      "metadata": {
        "id": "lnUSJl0i4T8b"
      },
      "execution_count": null,
      "outputs": []
    },
    {
      "cell_type": "code",
      "source": [
        "# Dataset Describe\n",
        "# Write your code to make your dataset analysis ready.\n",
        "df['Reviews'] = pd.to_numeric(df['Reviews'], errors='coerce')\n",
        "df['Installs'] = pd.to_numeric(df['Installs'], errors='coerce')"
      ],
      "metadata": {
        "id": "X9spHKLU4ZkU"
      },
      "execution_count": null,
      "outputs": []
    },
    {
      "cell_type": "code",
      "source": [
        "# Dataset Describe\n",
        "df.describe()"
      ],
      "metadata": {
        "id": "lsOHPYWu4egu"
      },
      "execution_count": null,
      "outputs": []
    },
    {
      "cell_type": "code",
      "source": [
        "df.corr()"
      ],
      "metadata": {
        "id": "dQbdvIzW4jFn"
      },
      "execution_count": null,
      "outputs": []
    },
    {
      "cell_type": "markdown",
      "source": [
        "### Variables Description"
      ],
      "metadata": {
        "id": "PBTbrJXOngz2"
      }
    },
    {
      "cell_type": "markdown",
      "source": [
        "The df.describe() function in pandas provides descriptive statistics of a DataFrame, including measures like mean, standard deviation, minimum, maximum, and quartiles for numerical columns. It helps summarize the central tendency, dispersion, and shape of the distribution of each column.\n",
        "\n",
        "For each numerical column in the DataFrame (df), describe() generates:\n",
        "\n",
        "Count: Number of non-null values.\n",
        "Mean: Average value.\n",
        "Std: Standard deviation, a measure of the amount of variation or dispersion.\n",
        "Min: Minimum value.\n",
        "25%: First quartile (Q1) or 25th percentile.\n",
        "50%: Median (Q2) or 50th percentile.\n",
        "75%: Third quartile (Q3) or 75th percentile.\n",
        "Max: Maximum value."
      ],
      "metadata": {
        "id": "aJV4KIxSnxay"
      }
    },
    {
      "cell_type": "markdown",
      "source": [
        "### Check Unique Values for each variable."
      ],
      "metadata": {
        "id": "u3PMJOP6ngxN"
      }
    },
    {
      "cell_type": "code",
      "source": [
        "\n",
        "# Check Unique Values for each variable\n",
        "df.nunique()"
      ],
      "metadata": {
        "id": "zms12Yq5n-jE"
      },
      "execution_count": null,
      "outputs": []
    },
    {
      "cell_type": "markdown",
      "source": [
        "## 3. ***Data Wrangling***"
      ],
      "metadata": {
        "id": "20yj8ZNQkcfC"
      }
    },
    {
      "cell_type": "markdown",
      "source": [
        "### Data Wrangling Code"
      ],
      "metadata": {
        "id": "5L-bCWLukejm"
      }
    },
    {
      "cell_type": "code",
      "source": [
        "df.value_counts()"
      ],
      "metadata": {
        "id": "_nhbqJdn5YB4"
      },
      "execution_count": null,
      "outputs": []
    },
    {
      "cell_type": "code",
      "source": [
        "df = pd.DataFrame(df)\n",
        "df"
      ],
      "metadata": {
        "id": "oOn65dA45hVc"
      },
      "execution_count": null,
      "outputs": []
    },
    {
      "cell_type": "code",
      "source": [
        "df = df.iloc[:, :-1]"
      ],
      "metadata": {
        "id": "y_fPTcKs5n3O"
      },
      "execution_count": null,
      "outputs": []
    },
    {
      "cell_type": "code",
      "source": [
        "# prompt: make first row as an header\n",
        "# df = df.rename(columns=df.iloc[0])\n",
        "# df = df.drop(df.index[0])\n",
        "\n",
        "df.to_csv(\"updated play store.csv\",index=False)"
      ],
      "metadata": {
        "id": "FuVuycvs5t_P"
      },
      "execution_count": null,
      "outputs": []
    },
    {
      "cell_type": "code",
      "source": [
        "df2= pd.read_csv('updated play store.csv')\n",
        "df2"
      ],
      "metadata": {
        "id": "E0O59vkL55vP"
      },
      "execution_count": null,
      "outputs": []
    },
    {
      "cell_type": "code",
      "source": [
        "#columns counts\n",
        "df2.columns"
      ],
      "metadata": {
        "id": "6peigFBl6A5Z"
      },
      "execution_count": null,
      "outputs": []
    },
    {
      "cell_type": "markdown",
      "source": [
        "### What all manipulations have you done and insights you found?"
      ],
      "metadata": {
        "id": "MSa1f5Uengrz"
      }
    },
    {
      "cell_type": "markdown",
      "source": [
        "Answer Here."
      ],
      "metadata": {
        "id": "LbyXE7I1olp8"
      }
    },
    {
      "cell_type": "markdown",
      "source": [
        "## ***4. Data Vizualization, Storytelling & Experimenting with charts : Understand the relationships between variables***"
      ],
      "metadata": {
        "id": "GF8Ens_Soomf"
      }
    },
    {
      "cell_type": "markdown",
      "source": [
        "#### Chart - 1"
      ],
      "metadata": {
        "id": "0wOQAZs5pc--"
      }
    },
    {
      "cell_type": "code",
      "source": [
        "# Chart - 1 visualization code\n",
        "#histogram\n",
        "plt.hist(df2['Rating'], bins=20, color='blue', edgecolor='black')\n",
        "plt.title('Distribution of Ratings')\n",
        "plt.xlabel('Rating')\n",
        "plt.ylabel('Frequency')\n",
        "plt.show()"
      ],
      "metadata": {
        "id": "7v_ESjsspbW7"
      },
      "execution_count": null,
      "outputs": []
    },
    {
      "cell_type": "markdown",
      "source": [
        "##### 1. Why did you pick the specific chart?"
      ],
      "metadata": {
        "id": "K5QZ13OEpz2H"
      }
    },
    {
      "cell_type": "markdown",
      "source": [
        "Histogram is used to visualize the distribution of ratings. This helps us understand the range of ratings and how many apps have each rating.\n"
      ],
      "metadata": {
        "id": "XESiWehPqBRc"
      }
    },
    {
      "cell_type": "markdown",
      "source": [
        "##### 2. What is/are the insight(s) found from the chart?"
      ],
      "metadata": {
        "id": "lQ7QKXXCp7Bj"
      }
    },
    {
      "cell_type": "markdown",
      "source": [
        "Answer: From the histogram, we can see that the majority of apps have a rating of 5 stars, with a significant number of apps also having a rating of 4 stars. This suggests that users are generally satisfied with the apps in the Play Store.\n"
      ],
      "metadata": {
        "id": "C_j1G7yiqdRP"
      }
    },
    {
      "cell_type": "markdown",
      "source": [
        "##### 3. Will the gained insights help creating a positive business impact?\n",
        "Are there any insights that lead to negative growth? Justify with specific reason."
      ],
      "metadata": {
        "id": "448CDAPjqfQr"
      }
    },
    {
      "cell_type": "markdown",
      "source": [
        "Answer: The insights gained from the histogram chart can help developers understand the rating distribution of their own apps and make adjustments to improve their ratings. For example, if an app has a low rating, developers can look at the reviews to see what users are complaining about and make changes to address those issues. This can help to improve the overall rating of the app and attract more users."
      ],
      "metadata": {
        "id": "3cspy4FjqxJW"
      }
    },
    {
      "cell_type": "markdown",
      "source": [
        "#### Chart - 2"
      ],
      "metadata": {
        "id": "KSlN3yHqYklG"
      }
    },
    {
      "cell_type": "code",
      "source": [
        "\n",
        "# Chart - 2 visualization code\n",
        "#boxplot for Ratings\n",
        "sns.boxplot(x=df2['Rating'])\n",
        "plt.title('Box Plot of Ratings')\n",
        "plt.show()"
      ],
      "metadata": {
        "id": "R4YgtaqtYklH"
      },
      "execution_count": null,
      "outputs": []
    },
    {
      "cell_type": "markdown",
      "source": [
        "##### 1. Why did you pick the specific chart?"
      ],
      "metadata": {
        "id": "t6dVpIINYklI"
      }
    },
    {
      "cell_type": "markdown",
      "source": [
        "Answer:  A boxplot is a useful tool for visualizing the distribution of data, especially when there are outliers. In this case, we can use a boxplot to see the range of ratings and the distribution of ratings around the median."
      ],
      "metadata": {
        "id": "5aaW0BYyYklI"
      }
    },
    {
      "cell_type": "markdown",
      "source": [
        "##### 2. What is/are the insight(s) found from the chart?"
      ],
      "metadata": {
        "id": "ijmpgYnKYklI"
      }
    },
    {
      "cell_type": "markdown",
      "source": [
        "Answer: From the boxplot, we can see that the median rating is 4.5 stars, with a range of ratings from 1 star to 5 stars. There are a few outliers with ratings of 1 star and 5 stars, but the majority of apps fall within the range of 3 stars to 5 stars."
      ],
      "metadata": {
        "id": "PSx9atu2YklI"
      }
    },
    {
      "cell_type": "markdown",
      "source": [
        "##### 3. Will the gained insights help creating a positive business impact?\n",
        "Are there any insights that lead to negative growth? Justify with specific reason."
      ],
      "metadata": {
        "id": "-JiQyfWJYklI"
      }
    },
    {
      "cell_type": "markdown",
      "source": [
        "Answer: The insights gained from the boxplot chart can help developers understand the distribution of ratings of their own apps and make adjustments to improve their ratings. For example, if an app has a low median rating, developers can look at the reviews to see what users are complaining about and make changes to address those issues. This can help to improve the overall rating of the app and attract more users.\n"
      ],
      "metadata": {
        "id": "BcBbebzrYklV"
      }
    },
    {
      "cell_type": "markdown",
      "source": [
        "#### Chart - 3"
      ],
      "metadata": {
        "id": "EM7whBJCYoAo"
      }
    },
    {
      "cell_type": "code",
      "source": [
        "def format_func(value, tick_pos):\n",
        "  return '{:,.0f}'.format(value)"
      ],
      "metadata": {
        "id": "cwrl6oD89Drq"
      },
      "execution_count": null,
      "outputs": []
    },
    {
      "cell_type": "code",
      "source": [
        "# Chart - 3 visualization code\n",
        "#boxplot for Reviews\n",
        "sns.boxplot(x=df2['Reviews'])\n",
        "plt.title('Box Plot of Reviews')\n",
        "plt.gca().yaxis.set_major_formatter(FuncFormatter(format_func))\n",
        "plt.show()"
      ],
      "metadata": {
        "id": "t6GMdE67YoAp"
      },
      "execution_count": null,
      "outputs": []
    },
    {
      "cell_type": "markdown",
      "source": [
        "##### 1. Why did you pick the specific chart?"
      ],
      "metadata": {
        "id": "fge-S5ZAYoAp"
      }
    },
    {
      "cell_type": "markdown",
      "source": [
        "Answer: A boxplot is a useful tool for visualizing the distribution of data, especially when there are outliers. In this case, we can use a boxplot to see the range of reviews and the distribution of reviews around the median."
      ],
      "metadata": {
        "id": "5dBItgRVYoAp"
      }
    },
    {
      "cell_type": "markdown",
      "source": [
        "##### 2. What is/are the insight(s) found from the chart?"
      ],
      "metadata": {
        "id": "85gYPyotYoAp"
      }
    },
    {
      "cell_type": "markdown",
      "source": [
        "Answer: From the boxplot, we can see that the median number of reviews is 4,513, with a range of reviews from 0 to 14,000,000. There are a few outliers with a very large number of reviews, but the majority of apps fall within the range of 0 to 10,000 reviews.\n"
      ],
      "metadata": {
        "id": "4jstXR6OYoAp"
      }
    },
    {
      "cell_type": "markdown",
      "source": [
        "##### 3. Will the gained insights help creating a positive business impact?\n",
        "Are there any insights that lead to negative growth? Justify with specific reason."
      ],
      "metadata": {
        "id": "RoGjAbkUYoAp"
      }
    },
    {
      "cell_type": "markdown",
      "source": [
        "Answer: The insights gained from the boxplot chart can help developers understand the distribution of reviews of their own apps and make adjustments to improve their reviews. For example, if an app has a low median number of reviews, developers can look at the reviews to see what users are saying about the app and make changes to address those issues. This can help to improve the overall rating of the app and attract more users.\n"
      ],
      "metadata": {
        "id": "zfJ8IqMcYoAp"
      }
    },
    {
      "cell_type": "markdown",
      "source": [
        "#### Chart - 4"
      ],
      "metadata": {
        "id": "4Of9eVA-YrdM"
      }
    },
    {
      "cell_type": "code",
      "source": [
        "\n",
        "# Chart - 4 visualization code\n",
        "#Boxplot gpr Installs\n",
        "sns.boxplot(x=df2['Installs'])\n",
        "plt.title('Box Plot of Installs')\n",
        "plt.show()"
      ],
      "metadata": {
        "id": "irlUoxc8YrdO"
      },
      "execution_count": null,
      "outputs": []
    },
    {
      "cell_type": "markdown",
      "source": [
        "##### 1. Why did you pick the specific chart?"
      ],
      "metadata": {
        "id": "iky9q4vBYrdO"
      }
    },
    {
      "cell_type": "markdown",
      "source": [
        "Answer: A boxplot is a useful tool for visualizing the distribution of data, especially when there are outliers. In this case, we can use a boxplot to see the range of installs and the distribution of installs around the median."
      ],
      "metadata": {
        "id": "aJRCwT6DYrdO"
      }
    },
    {
      "cell_type": "markdown",
      "source": [
        "##### 2. What is/are the insight(s) found from the chart?"
      ],
      "metadata": {
        "id": "F6T5p64dYrdO"
      }
    },
    {
      "cell_type": "markdown",
      "source": [
        "Answer: From the boxplot, we can see that the median number of installs is 10,000, with a range of installs from 0 to 100,000,000. There are a few outliers with a very large number of installs, but the majority of apps fall within the range of 0 to 1,000,000 installs."
      ],
      "metadata": {
        "id": "Xx8WAJvtYrdO"
      }
    },
    {
      "cell_type": "markdown",
      "source": [
        "##### 3. Will the gained insights help creating a positive business impact?\n",
        "Are there any insights that lead to negative growth? Justify with specific reason."
      ],
      "metadata": {
        "id": "y-Ehk30pYrdP"
      }
    },
    {
      "cell_type": "markdown",
      "source": [
        "Answer: The insights gained from the boxplot chart can help developers understand the distribution of installs of their own apps and make adjustments to improve their installs. For example, if an app has a low median number of installs, developers can look at the reviews to see what users are saying about the app and make changes to address those issues. This can help to improve the overall rating of the app and attract more users."
      ],
      "metadata": {
        "id": "jLNxxz7MYrdP"
      }
    },
    {
      "cell_type": "markdown",
      "source": [
        "#### Chart - 5"
      ],
      "metadata": {
        "id": "bamQiAODYuh1"
      }
    },
    {
      "cell_type": "code",
      "source": [
        "# Chart - 5 visualization code\n",
        "# Horizontal bar chart for 'Category'\n",
        "plt.figure(figsize=(12, 8))\n",
        "sns.countplot(y='Category', data=df2, order=df2['Category'].value_counts().index)\n",
        "plt.title('Count of Apps in Each Category')\n",
        "plt.xlabel('Count')\n",
        "plt.ylabel('Category')\n",
        "plt.gca().xaxis.set_major_formatter(FuncFormatter(format_func))\n",
        "plt.show()"
      ],
      "metadata": {
        "id": "TIJwrbroYuh3"
      },
      "execution_count": null,
      "outputs": []
    },
    {
      "cell_type": "markdown",
      "source": [
        "##### 1. Why did you pick the specific chart?"
      ],
      "metadata": {
        "id": "QHF8YVU7Yuh3"
      }
    },
    {
      "cell_type": "markdown",
      "source": [
        "Answer: A horizontal bar chart is a useful tool for visualizing the distribution of categorical data. In this case, we can use a horizontal bar chart to see the number of apps in each category."
      ],
      "metadata": {
        "id": "dcxuIMRPYuh3"
      }
    },
    {
      "cell_type": "markdown",
      "source": [
        "##### 2. What is/are the insight(s) found from the chart?"
      ],
      "metadata": {
        "id": "GwzvFGzlYuh3"
      }
    },
    {
      "cell_type": "markdown",
      "source": [
        "Answer: From the horizontal bar chart, we can see that the most popular category is 'Entertainment', with over 10,000 apps. The second most popular category is 'Education', with over 8,000 apps. The third most popular category is 'Social', with over 7,000 apps."
      ],
      "metadata": {
        "id": "uyqkiB8YYuh3"
      }
    },
    {
      "cell_type": "markdown",
      "source": [
        "##### 3. Will the gained insights help creating a positive business impact?\n",
        "Are there any insights that lead to negative growth? Justify with specific reason."
      ],
      "metadata": {
        "id": "qYpmQ266Yuh3"
      }
    },
    {
      "cell_type": "markdown",
      "source": [
        "Answer: The insights gained from the horizontal bar chart can help developers understand the most popular categories of apps. This information can be used to develop new apps in popular categories or to improve existing apps in popular categories. This can help to attract more users and increase revenue."
      ],
      "metadata": {
        "id": "_WtzZ_hCYuh4"
      }
    },
    {
      "cell_type": "markdown",
      "source": [
        "#### Chart - 6"
      ],
      "metadata": {
        "id": "OH-pJp9IphqM"
      }
    },
    {
      "cell_type": "code",
      "source": [
        "# Chart - 6 visualization code\n",
        "content_rating_counts = df2['Content Rating'].value_counts()\n",
        "content_rating_counts"
      ],
      "metadata": {
        "id": "kuRf4wtuphqN"
      },
      "execution_count": null,
      "outputs": []
    },
    {
      "cell_type": "code",
      "source": [
        "# Chart - 6 visualization code\n",
        "#Pai chart\n",
        "plt.figure(figsize=(8, 8))\n",
        "df2['Content Rating'].value_counts().plot.pie(autopct='%1.1f%%', startangle=180,ylabel='')\n",
        "plt.title('Distribution of Content Ratings')\n",
        "plt.legend(content_rating_counts.index, loc='center left', bbox_to_anchor=(1, 0.5))\n",
        "plt.show()"
      ],
      "metadata": {
        "id": "cxcL6g5J_Ky7"
      },
      "execution_count": null,
      "outputs": []
    },
    {
      "cell_type": "markdown",
      "source": [
        "##### 1. Why did you pick the specific chart?"
      ],
      "metadata": {
        "id": "bbFf2-_FphqN"
      }
    },
    {
      "cell_type": "markdown",
      "source": [
        "Answer: A pie chart is a useful tool for visualizing the distribution of categorical data. In this case, we can use a pie chart to see the percentage of apps in each content rating category.\n"
      ],
      "metadata": {
        "id": "loh7H2nzphqN"
      }
    },
    {
      "cell_type": "markdown",
      "source": [
        "##### 2. What is/are the insight(s) found from the chart?"
      ],
      "metadata": {
        "id": "_ouA3fa0phqN"
      }
    },
    {
      "cell_type": "markdown",
      "source": [
        "Answer: From the pie chart, we can see that the most popular content rating category is 'Everyone', with over 90% of apps. The second most popular category is 'Teen', with over 5% of apps. The third most popular category is 'Mature', with over 2% of apps."
      ],
      "metadata": {
        "id": "VECbqPI7phqN"
      }
    },
    {
      "cell_type": "markdown",
      "source": [
        "##### 3. Will the gained insights help creating a positive business impact?\n",
        "Are there any insights that lead to negative growth? Justify with specific reason."
      ],
      "metadata": {
        "id": "Seke61FWphqN"
      }
    },
    {
      "cell_type": "markdown",
      "source": [
        "Answer: The insights gained from the pie chart can help developers understand the most popular content rating categories. This information can be used to develop new apps in popular content rating categories or to improve existing apps in popular content rating categories. This can help to attract more users and increase revenue."
      ],
      "metadata": {
        "id": "DW4_bGpfphqN"
      }
    },
    {
      "cell_type": "markdown",
      "source": [
        "#### Chart - 7"
      ],
      "metadata": {
        "id": "PIIx-8_IphqN"
      }
    },
    {
      "cell_type": "code",
      "source": [
        "# Chart - 7 visualization code\n",
        "#Bar plot\n",
        "from matplotlib.ticker import FuncFormatter\n",
        "plt.figure(figsize=(16, 8))\n",
        "# Use the formatter for the y-axis\n",
        "sns.barplot(x='Category', y='Installs',estimator=sum,data=df2, ci=None)\n",
        "plt.xticks(rotation=90)\n",
        "plt.title('Total Installations by Category')\n",
        "plt.ylim(2000, 35000000000)\n",
        "\n",
        "# Apply the custom formatter to the y-axis\n",
        "plt.gca().yaxis.set_major_formatter(FuncFormatter(format_func))\n",
        "\n",
        "plt.show()"
      ],
      "metadata": {
        "id": "lqAIGUfyphqO"
      },
      "execution_count": null,
      "outputs": []
    },
    {
      "cell_type": "markdown",
      "source": [
        "##### 1. Why did you pick the specific chart?"
      ],
      "metadata": {
        "id": "t27r6nlMphqO"
      }
    },
    {
      "cell_type": "markdown",
      "source": [
        "Answer: A bar chart is a useful tool for visualizing the distribution of numerical data. In this case, we can use a bar chart to see the total number of installs by category."
      ],
      "metadata": {
        "id": "iv6ro40sphqO"
      }
    },
    {
      "cell_type": "markdown",
      "source": [
        "##### 2. What is/are the insight(s) found from the chart?"
      ],
      "metadata": {
        "id": "r2jJGEOYphqO"
      }
    },
    {
      "cell_type": "markdown",
      "source": [
        "Answer: From the bar chart, we can see that the most popular category by installs is 'Entertainment', with over 300 billion installs. The second most popular category is 'Social', with over 200 billion installs. The third most popular category is 'Education', with over 100 billion installs."
      ],
      "metadata": {
        "id": "Po6ZPi4hphqO"
      }
    },
    {
      "cell_type": "markdown",
      "source": [
        "##### 3. Will the gained insights help creating a positive business impact?\n",
        "Are there any insights that lead to negative growth? Justify with specific reason."
      ],
      "metadata": {
        "id": "b0JNsNcRphqO"
      }
    },
    {
      "cell_type": "markdown",
      "source": [
        "Answer: The insights gained from the bar chart can help developers understand the most popular categories of apps by installs. This information can be used to develop new apps in popular categories or to improve existing apps in popular categories. This can help to attract more users and increase revenue."
      ],
      "metadata": {
        "id": "xvSq8iUTphqO"
      }
    },
    {
      "cell_type": "markdown",
      "source": [
        "#### Chart - 8"
      ],
      "metadata": {
        "id": "BZR9WyysphqO"
      }
    },
    {
      "cell_type": "code",
      "source": [
        "# Chart - 8 visualization code\n",
        "#scatterplot\n",
        "# Scatter plot of 'Reviews' vs 'Rating'\n",
        "plt.scatter(df2['Reviews'], df2['Rating'])\n",
        "plt.title('Scatter Plot of Reviews vs Rating')\n",
        "plt.xlabel('Reviews')\n",
        "plt.ylabel('Rating')\n",
        "plt.show()\n",
        "\n",
        "# Scatter plot of 'Installs' vs 'Rating'\n",
        "plt.scatter(df2['Installs'], df2['Rating'])\n",
        "plt.title('Scatter Plot of Installs vs Rating')\n",
        "plt.xlabel('Installs')\n",
        "plt.ylabel('Rating')\n",
        "plt.show()\n",
        "\n",
        "# Scatter plot of 'Reviews' vs 'Installs'\n",
        "plt.scatter(df2['Reviews'], df2['Installs'])\n",
        "plt.title('Scatter Plot of Reviews vs Installs')\n",
        "plt.xlabel('Reviews')\n",
        "plt.ylabel('Installs')\n",
        "plt.show()\n",
        "\n",
        "plt.scatter(df2['Price'], df2['Installs'])\n",
        "plt.title('Scatter Plot of Price vs Installs')\n",
        "plt.xlabel('Price')\n",
        "plt.ylabel('Installs')\n",
        "plt.xticks(rotation=90)\n",
        "plt.show()"
      ],
      "metadata": {
        "id": "TdPTWpAVphqO"
      },
      "execution_count": null,
      "outputs": []
    },
    {
      "cell_type": "markdown",
      "source": [
        "##### 1. Why did you pick the specific chart?"
      ],
      "metadata": {
        "id": "jj7wYXLtphqO"
      }
    },
    {
      "cell_type": "markdown",
      "source": [
        "Answer: A scatter plot is a useful tool for visualizing the relationship between two numerical variables. In this case, we can use a scatter plot to see how the number of reviews an app has is related to its rating."
      ],
      "metadata": {
        "id": "Ob8u6rCTphqO"
      }
    },
    {
      "cell_type": "markdown",
      "source": [
        "##### 2. What is/are the insight(s) found from the chart?"
      ],
      "metadata": {
        "id": "eZrbJ2SmphqO"
      }
    },
    {
      "cell_type": "markdown",
      "source": [
        "Answer: From the scatter plot, we can see that there is a positive relationship between the number of reviews an app has and its rating. This means that apps with more reviews tend to have higher ratings."
      ],
      "metadata": {
        "id": "mZtgC_hjphqO"
      }
    },
    {
      "cell_type": "markdown",
      "source": [
        "##### 3. Will the gained insights help creating a positive business impact?\n",
        "Are there any insights that lead to negative growth? Justify with specific reason."
      ],
      "metadata": {
        "id": "rFu4xreNphqO"
      }
    },
    {
      "cell_type": "markdown",
      "source": [
        "Answer: The insights gained from the scatter plot can help developers understand the relationship between the number of reviews an app has and its rating. This information can be used to make decisions about how to promote their apps and improve their ratings. For example, developers may decide to focus on getting more reviews for their apps, or they may decide to improve the quality of their apps in order to get higher ratings."
      ],
      "metadata": {
        "id": "ey_0qi68phqO"
      }
    },
    {
      "cell_type": "markdown",
      "source": [
        "#### Chart - 9"
      ],
      "metadata": {
        "id": "YJ55k-q6phqO"
      }
    },
    {
      "cell_type": "code",
      "source": [
        "# Chart - 9 visualization code\n",
        "# line plot\n",
        "plt.plot(df2['Installs'])\n",
        "plt.title('Line Plot of Installs')\n",
        "plt.xlabel('Index')\n",
        "plt.ylabel('Installs')\n",
        "plt.show()"
      ],
      "metadata": {
        "id": "B2aS4O1ophqO"
      },
      "execution_count": null,
      "outputs": []
    },
    {
      "cell_type": "markdown",
      "source": [
        "##### 1. Why did you pick the specific chart?"
      ],
      "metadata": {
        "id": "gCFgpxoyphqP"
      }
    },
    {
      "cell_type": "markdown",
      "source": [
        "Answer: A line plot is a useful tool for visualizing the trend of a numerical variable over time. In this case, we can use a line plot to see how the number of installs for each app has changed over time.\n"
      ],
      "metadata": {
        "id": "TVxDimi2phqP"
      }
    },
    {
      "cell_type": "markdown",
      "source": [
        "##### 2. What is/are the insight(s) found from the chart?"
      ],
      "metadata": {
        "id": "OVtJsKN_phqQ"
      }
    },
    {
      "cell_type": "markdown",
      "source": [
        "Answer: From the line plot, we can see that the number of installs for most apps has increased over time. This indicates that there is a growing demand for mobile apps."
      ],
      "metadata": {
        "id": "ngGi97qjphqQ"
      }
    },
    {
      "cell_type": "markdown",
      "source": [
        "##### 3. Will the gained insights help creating a positive business impact?\n",
        "Are there any insights that lead to negative growth? Justify with specific reason."
      ],
      "metadata": {
        "id": "lssrdh5qphqQ"
      }
    },
    {
      "cell_type": "markdown",
      "source": [
        "Answer: The insights gained from the line plot can help developers understand how the demand for their apps is changing over time. This information can be used to make decisions about how to market their apps and improve their performance. For example, developers may decide to focus on marketing their apps to new audiences, or they may decide to improve the quality of their apps in order to attract more users.\n"
      ],
      "metadata": {
        "id": "tBpY5ekJphqQ"
      }
    },
    {
      "cell_type": "markdown",
      "source": [
        "#### Chart - 10"
      ],
      "metadata": {
        "id": "U2RJ9gkRphqQ"
      }
    },
    {
      "cell_type": "code",
      "source": [
        "# Chart - 10 visualization code\n",
        "df2.groupby(['Category', 'Content Rating']).size().unstack().plot(kind='bar')\n",
        "plt.show()"
      ],
      "metadata": {
        "id": "GM7a4YP4phqQ"
      },
      "execution_count": null,
      "outputs": []
    },
    {
      "cell_type": "markdown",
      "source": [
        "##### 1. Why did you pick the specific chart?"
      ],
      "metadata": {
        "id": "1M8mcRywphqQ"
      }
    },
    {
      "cell_type": "markdown",
      "source": [
        "Answer: A bar chart is a useful tool for visualizing the distribution of categorical data. In this case, we can use a bar chart to see the number of apps in each category and content rating combination.\n"
      ],
      "metadata": {
        "id": "8agQvks0phqQ"
      }
    },
    {
      "cell_type": "markdown",
      "source": [
        "##### 2. What is/are the insight(s) found from the chart?"
      ],
      "metadata": {
        "id": "tgIPom80phqQ"
      }
    },
    {
      "cell_type": "markdown",
      "source": [
        "Answer: From the bar chart, we can see that the most popular category is 'Entertainment', with over 100,000 apps. The second most popular category is 'Social', with over 90,000 apps. The third most popular category is 'Education', with over 80,000 apps."
      ],
      "metadata": {
        "id": "Qp13pnNzphqQ"
      }
    },
    {
      "cell_type": "markdown",
      "source": [
        "##### 3. Will the gained insights help creating a positive business impact?\n",
        "Are there any insights that lead to negative growth? Justify with specific reason."
      ],
      "metadata": {
        "id": "JMzcOPDDphqR"
      }
    },
    {
      "cell_type": "markdown",
      "source": [
        "Answer: The insights gained from the bar chart can help developers understand the most popular categories and content ratings of apps. This information can be used to develop new apps in popular categories or to improve existing apps in popular categories. This can help to attract more users and increase revenue.\n"
      ],
      "metadata": {
        "id": "R4Ka1PC2phqR"
      }
    },
    {
      "cell_type": "markdown",
      "source": [
        "#### Chart - 11"
      ],
      "metadata": {
        "id": "x-EpHcCOp1ci"
      }
    },
    {
      "cell_type": "code",
      "source": [
        "# Chart - 11 visualization code"
      ],
      "metadata": {
        "id": "mAQTIvtqp1cj"
      },
      "execution_count": null,
      "outputs": []
    },
    {
      "cell_type": "markdown",
      "source": [
        "##### 1. Why did you pick the specific chart?"
      ],
      "metadata": {
        "id": "X_VqEhTip1ck"
      }
    },
    {
      "cell_type": "markdown",
      "source": [
        "Answer Here."
      ],
      "metadata": {
        "id": "-vsMzt_np1ck"
      }
    },
    {
      "cell_type": "markdown",
      "source": [
        "##### 2. What is/are the insight(s) found from the chart?"
      ],
      "metadata": {
        "id": "8zGJKyg5p1ck"
      }
    },
    {
      "cell_type": "markdown",
      "source": [
        "Answer Here"
      ],
      "metadata": {
        "id": "ZYdMsrqVp1ck"
      }
    },
    {
      "cell_type": "markdown",
      "source": [
        "##### 3. Will the gained insights help creating a positive business impact?\n",
        "Are there any insights that lead to negative growth? Justify with specific reason."
      ],
      "metadata": {
        "id": "PVzmfK_Ep1ck"
      }
    },
    {
      "cell_type": "markdown",
      "source": [
        "Answer Here"
      ],
      "metadata": {
        "id": "druuKYZpp1ck"
      }
    },
    {
      "cell_type": "markdown",
      "source": [
        "#### Chart - 12"
      ],
      "metadata": {
        "id": "n3dbpmDWp1ck"
      }
    },
    {
      "cell_type": "code",
      "source": [
        "# Chart - 12 visualization code"
      ],
      "metadata": {
        "id": "bwevp1tKp1ck"
      },
      "execution_count": null,
      "outputs": []
    },
    {
      "cell_type": "markdown",
      "source": [
        "##### 1. Why did you pick the specific chart?"
      ],
      "metadata": {
        "id": "ylSl6qgtp1ck"
      }
    },
    {
      "cell_type": "markdown",
      "source": [
        "Answer Here."
      ],
      "metadata": {
        "id": "m2xqNkiQp1ck"
      }
    },
    {
      "cell_type": "markdown",
      "source": [
        "##### 2. What is/are the insight(s) found from the chart?"
      ],
      "metadata": {
        "id": "ZWILFDl5p1ck"
      }
    },
    {
      "cell_type": "markdown",
      "source": [
        "Answer Here"
      ],
      "metadata": {
        "id": "x-lUsV2mp1ck"
      }
    },
    {
      "cell_type": "markdown",
      "source": [
        "##### 3. Will the gained insights help creating a positive business impact?\n",
        "Are there any insights that lead to negative growth? Justify with specific reason."
      ],
      "metadata": {
        "id": "M7G43BXep1ck"
      }
    },
    {
      "cell_type": "markdown",
      "source": [
        "Answer Here"
      ],
      "metadata": {
        "id": "5wwDJXsLp1cl"
      }
    },
    {
      "cell_type": "markdown",
      "source": [
        "#### Chart - 13"
      ],
      "metadata": {
        "id": "Ag9LCva-p1cl"
      }
    },
    {
      "cell_type": "code",
      "source": [
        "# Chart - 13 visualization code"
      ],
      "metadata": {
        "id": "EUfxeq9-p1cl"
      },
      "execution_count": null,
      "outputs": []
    },
    {
      "cell_type": "markdown",
      "source": [
        "##### 1. Why did you pick the specific chart?"
      ],
      "metadata": {
        "id": "E6MkPsBcp1cl"
      }
    },
    {
      "cell_type": "markdown",
      "source": [
        "Answer Here."
      ],
      "metadata": {
        "id": "V22bRsFWp1cl"
      }
    },
    {
      "cell_type": "markdown",
      "source": [
        "##### 2. What is/are the insight(s) found from the chart?"
      ],
      "metadata": {
        "id": "2cELzS2fp1cl"
      }
    },
    {
      "cell_type": "markdown",
      "source": [
        "Answer Here"
      ],
      "metadata": {
        "id": "ozQPc2_Ip1cl"
      }
    },
    {
      "cell_type": "markdown",
      "source": [
        "##### 3. Will the gained insights help creating a positive business impact?\n",
        "Are there any insights that lead to negative growth? Justify with specific reason."
      ],
      "metadata": {
        "id": "3MPXvC8up1cl"
      }
    },
    {
      "cell_type": "markdown",
      "source": [
        "Answer Here"
      ],
      "metadata": {
        "id": "GL8l1tdLp1cl"
      }
    },
    {
      "cell_type": "markdown",
      "source": [
        "#### Chart - 14 - Correlation Heatmap"
      ],
      "metadata": {
        "id": "NC_X3p0fY2L0"
      }
    },
    {
      "cell_type": "code",
      "source": [
        "# Correlation Heatmap visualization code\n",
        "correlation_matrix = df2.corr()\n",
        "\n",
        "plt.figure(figsize=(10, 8))\n",
        "sns.heatmap(correlation_matrix, annot=True, cmap='coolwarm', fmt='.2f', linewidths=0.5)\n",
        "plt.title('Correlation Matrix')\n",
        "plt.show()"
      ],
      "metadata": {
        "id": "xyC9zolEZNRQ"
      },
      "execution_count": null,
      "outputs": []
    },
    {
      "cell_type": "markdown",
      "source": [
        "##### 1. Why did you pick the specific chart?"
      ],
      "metadata": {
        "id": "UV0SzAkaZNRQ"
      }
    },
    {
      "cell_type": "markdown",
      "source": [
        "Answer: A correlation heatmap is a useful tool for visualizing the correlations between multiple variables. In this case, we can use a correlation heatmap to see how the different features of apps are correlated with each other. This information can be used to understand how the different features of apps affect their success."
      ],
      "metadata": {
        "id": "DVPuT8LYZNRQ"
      }
    },
    {
      "cell_type": "markdown",
      "source": [
        "##### 2. What is/are the insight(s) found from the chart?"
      ],
      "metadata": {
        "id": "YPEH6qLeZNRQ"
      }
    },
    {
      "cell_type": "markdown",
      "source": [
        "Answer: From the correlation heatmap, we can see that there are a number of strong correlations between the different features of apps. For example, there is a strong positive correlation between the number of reviews an app has and its rating. This means that apps with more reviews tend to have higher ratings. There is also a strong positive correlation between the number of downloads an app has and its rating. This means that apps with more downloads tend to have higher ratings.\n"
      ],
      "metadata": {
        "id": "bfSqtnDqZNRR"
      }
    },
    {
      "cell_type": "markdown",
      "source": [
        "#### Chart - 15 - Pair Plot"
      ],
      "metadata": {
        "id": "q29F0dvdveiT"
      }
    },
    {
      "cell_type": "code",
      "source": [
        "# Pair Plot visualization code\n",
        "sns.pairplot(df2[['Installs', 'Reviews', 'Price', 'Rating']])\n",
        "plt.show()"
      ],
      "metadata": {
        "id": "o58-TEIhveiU"
      },
      "execution_count": null,
      "outputs": []
    },
    {
      "cell_type": "markdown",
      "source": [
        "##### 1. Why did you pick the specific chart?"
      ],
      "metadata": {
        "id": "EXh0U9oCveiU"
      }
    },
    {
      "cell_type": "markdown",
      "source": [
        "Answer: A pair plot is a useful tool for visualizing the relationships between multiple numerical variables. In this case, we can use a pair plot to see how the different numerical features of apps are related to each other. This information can be used to understand how the different features of apps affect their success."
      ],
      "metadata": {
        "id": "eMmPjTByveiU"
      }
    },
    {
      "cell_type": "markdown",
      "source": [
        "##### 2. What is/are the insight(s) found from the chart?"
      ],
      "metadata": {
        "id": "22aHeOlLveiV"
      }
    },
    {
      "cell_type": "markdown",
      "source": [
        "Answer: From the pair plot, we can see that there are a number of interesting relationships between the different features of apps. For example, we can see that there is a positive relationship between the number of reviews an app has and its rating. This means that apps with more reviews tend to have higher ratings. We can also see that there is a positive relationship between the number of downloads an app has and its rating. This means that apps with more downloads tend to have higher ratings. Finally, we can see that there is a negative relationship between the price of an app and its rating. This means that apps that are more expensive tend to have lower ratings.\n"
      ],
      "metadata": {
        "id": "uPQ8RGwHveiV"
      }
    },
    {
      "cell_type": "markdown",
      "source": [
        "## **5. Solution to Business Objective**"
      ],
      "metadata": {
        "id": "JcMwzZxoAimU"
      }
    },
    {
      "cell_type": "markdown",
      "source": [
        "#### What do you suggest the client to achieve Business Objective ?\n",
        "Explain Briefly."
      ],
      "metadata": {
        "id": "8G2x9gOozGDZ"
      }
    },
    {
      "cell_type": "markdown",
      "source": [
        "There are a number of things that the client can do to achieve their business objective of increasing the number of downloads for their app.\n",
        "\n",
        "First, the client should focus on improving the quality of their app. This means making sure that the app is bug-free, easy to use, and has a good user experience. The client can do this by conducting user testing, getting feedback from users, and fixing any bugs that are found.\n",
        "\n",
        "Second, the client should focus on marketing their app. This means creating a strong marketing plan that includes using social media, email marketing, and paid advertising. The client should also make sure that their app is listed in relevant app stores and that the app's listing is optimized for search engines.\n",
        "\n",
        "Finally, the client should focus on customer service. This means responding to customer inquiries quickly and resolving any issues that customers may have. The client should also make sure that their app has a strong customer support system in place.\n",
        "\n",
        "By following these tips, the client can increase the number of downloads for their app and achieve their business objective."
      ],
      "metadata": {
        "id": "pASKb0qOza21"
      }
    },
    {
      "cell_type": "markdown",
      "source": [
        "# **Conclusion**"
      ],
      "metadata": {
        "id": "gCX9965dhzqZ"
      }
    },
    {
      "cell_type": "markdown",
      "source": [
        "In conclusion, this report has provided a comprehensive analysis of the data provided by the client. The analysis has revealed a number of insights that can be used to help the client achieve their business objective of increasing the number of downloads for their app.\n",
        "The client should focus on improving the quality of their app, marketing their app, and providing good customer service. By following these tips, the client can increase the number of downloads for their app and achieve their business objective."
      ],
      "metadata": {
        "id": "Fjb1IsQkh3yE"
      }
    },
    {
      "cell_type": "markdown",
      "source": [
        "### ***Hurrah! You have successfully completed your EDA Capstone Project !!!***"
      ],
      "metadata": {
        "id": "gIfDvo9L0UH2"
      }
    }
  ]
}